{
 "cells": [
  {
   "cell_type": "code",
   "execution_count": null,
   "metadata": {},
   "outputs": [],
   "source": [
    "import requests\n",
    "from bs4 import BeautifulSoup\n",
    "import pandas as pd\n",
    "\n",
    "def scrape_mental_health_resources(url):\n",
    "    \"\"\"Scrapes a website for mental health resources by country and year.\"\"\"\n",
    "\n",
    "    response = requests.get(url)\n",
    "    soup = BeautifulSoup(response.content, 'html.parser')\n",
    "\n",
    "    data = []\n",
    "    for country_link in soup.find_all('a', href=True):  # Find all links\n",
    "        country_url = country_link['href']\n",
    "        if country_url.startswith(\"https://extranet.who.int/mindbank/country/\"):\n",
    "            country_name = country_link.text.strip()\n",
    "\n",
    "            country_response = requests.get(country_url)\n",
    "            country_soup = BeautifulSoup(country_response.content, 'html.parser')\n",
    "\n",
    "            for resource_link in country_soup.find_all('a', href=True):\n",
    "                resource_url = resource_link['href']\n",
    "                if resource_url.startswith(\"https://extranet.who.int/mindbank/item/\"):\n",
    "                    resource_name = resource_link.text.strip()\n",
    "                    year = resource_link.find_parent('td').find_next_sibling('td').text.strip()\n",
    "                    \n",
    "                    data.append({'Country': country_name, 'Resource': resource_name, 'Year': year})\n",
    "\n",
    "    return pd.DataFrame(data)\n",
    "\n",
    "\n",
    "# Example Usage\n",
    "url = \"https://extranet.who.int/mindbank/collection/type/mental_health_strategies_and_plans\"  # Replace with the actual URL\n",
    "df = scrape_mental_health_resources(url)\n",
    "\n",
    "print(df)"
   ]
  }
 ],
 "metadata": {
  "kernelspec": {
   "display_name": "mlenv",
   "language": "python",
   "name": "python3"
  },
  "language_info": {
   "name": "python",
   "version": "3.11.5"
  }
 },
 "nbformat": 4,
 "nbformat_minor": 2
}
